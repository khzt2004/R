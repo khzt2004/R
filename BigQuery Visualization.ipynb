{
 "cells": [
  {
   "cell_type": "code",
   "execution_count": 40,
   "metadata": {},
   "outputs": [],
   "source": [
    "library(tidyverse)\n",
    "library(bigrquery)\n",
    "library(plotly)"
   ]
  },
  {
   "cell_type": "code",
   "execution_count": 41,
   "metadata": {},
   "outputs": [],
   "source": [
    "# define the project\n",
    "project <- \"perfect-purpose-251405\"\n",
    "\n",
    "# write the query to get data\n",
    "get_data_query <- paste0(\"SELECT EXTRACT(HOUR FROM TIMESTAMP_SECONDS(visitStartTime)) AS hour,\n",
    "sum(totals.visits ) sessions\n",
    "FROM `google.com:analytics-bigquery.LondonCycleHelmet.ga_sessions_20130910`\n",
    "group by 1\")\n",
    "\n",
    "# download data from BigQuery \n",
    "df_hour_of_day <- bq_table_download(bq_project_query(project,\n",
    "                                            get_data_query,\n",
    "                                            use_legacy_sql = FALSE))"
   ]
  },
  {
   "cell_type": "code",
   "execution_count": 46,
   "metadata": {},
   "outputs": [
    {
     "data": {
      "text/html": [
       "<table>\n",
       "<thead><tr><th scope=col>hour</th><th scope=col>sessions</th></tr></thead>\n",
       "<tbody>\n",
       "\t<tr><td> 8</td><td> 7</td></tr>\n",
       "\t<tr><td> 9</td><td>34</td></tr>\n",
       "\t<tr><td>10</td><td> 6</td></tr>\n",
       "\t<tr><td>11</td><td> 5</td></tr>\n",
       "\t<tr><td>13</td><td>11</td></tr>\n",
       "</tbody>\n",
       "</table>\n"
      ],
      "text/latex": [
       "\\begin{tabular}{r|ll}\n",
       " hour & sessions\\\\\n",
       "\\hline\n",
       "\t  8 &  7\\\\\n",
       "\t  9 & 34\\\\\n",
       "\t 10 &  6\\\\\n",
       "\t 11 &  5\\\\\n",
       "\t 13 & 11\\\\\n",
       "\\end{tabular}\n"
      ],
      "text/markdown": [
       "\n",
       "| hour | sessions |\n",
       "|---|---|\n",
       "|  8 |  7 |\n",
       "|  9 | 34 |\n",
       "| 10 |  6 |\n",
       "| 11 |  5 |\n",
       "| 13 | 11 |\n",
       "\n"
      ],
      "text/plain": [
       "  hour sessions\n",
       "1  8    7      \n",
       "2  9   34      \n",
       "3 10    6      \n",
       "4 11    5      \n",
       "5 13   11      "
      ]
     },
     "metadata": {},
     "output_type": "display_data"
    }
   ],
   "source": [
    "# check the dataframe of results\n",
    "\n",
    "df_hour_of_day %>% arrange(hour) "
   ]
  },
  {
   "cell_type": "code",
   "execution_count": 43,
   "metadata": {},
   "outputs": [
    {
     "data": {
      "text/html": [
       "<table>\n",
       "<thead><tr><th scope=col>hour</th><th scope=col>sessions</th></tr></thead>\n",
       "<tbody>\n",
       "\t<tr><td>23</td><td> 0</td></tr>\n",
       "\t<tr><td>22</td><td> 0</td></tr>\n",
       "\t<tr><td>21</td><td> 0</td></tr>\n",
       "\t<tr><td>20</td><td> 0</td></tr>\n",
       "\t<tr><td>19</td><td> 0</td></tr>\n",
       "\t<tr><td>18</td><td> 0</td></tr>\n",
       "\t<tr><td>17</td><td> 0</td></tr>\n",
       "\t<tr><td>16</td><td> 0</td></tr>\n",
       "\t<tr><td>15</td><td> 0</td></tr>\n",
       "\t<tr><td>14</td><td> 0</td></tr>\n",
       "\t<tr><td>13</td><td>11</td></tr>\n",
       "\t<tr><td>11</td><td> 5</td></tr>\n",
       "\t<tr><td>10</td><td> 6</td></tr>\n",
       "\t<tr><td> 9</td><td>34</td></tr>\n",
       "\t<tr><td> 8</td><td> 7</td></tr>\n",
       "\t<tr><td> 7</td><td> 0</td></tr>\n",
       "\t<tr><td> 6</td><td> 0</td></tr>\n",
       "\t<tr><td> 5</td><td> 0</td></tr>\n",
       "\t<tr><td> 4</td><td> 0</td></tr>\n",
       "\t<tr><td> 3</td><td> 0</td></tr>\n",
       "\t<tr><td> 2</td><td> 0</td></tr>\n",
       "\t<tr><td> 1</td><td> 0</td></tr>\n",
       "\t<tr><td> 0</td><td> 0</td></tr>\n",
       "</tbody>\n",
       "</table>\n"
      ],
      "text/latex": [
       "\\begin{tabular}{r|ll}\n",
       " hour & sessions\\\\\n",
       "\\hline\n",
       "\t 23 &  0\\\\\n",
       "\t 22 &  0\\\\\n",
       "\t 21 &  0\\\\\n",
       "\t 20 &  0\\\\\n",
       "\t 19 &  0\\\\\n",
       "\t 18 &  0\\\\\n",
       "\t 17 &  0\\\\\n",
       "\t 16 &  0\\\\\n",
       "\t 15 &  0\\\\\n",
       "\t 14 &  0\\\\\n",
       "\t 13 & 11\\\\\n",
       "\t 11 &  5\\\\\n",
       "\t 10 &  6\\\\\n",
       "\t  9 & 34\\\\\n",
       "\t  8 &  7\\\\\n",
       "\t  7 &  0\\\\\n",
       "\t  6 &  0\\\\\n",
       "\t  5 &  0\\\\\n",
       "\t  4 &  0\\\\\n",
       "\t  3 &  0\\\\\n",
       "\t  2 &  0\\\\\n",
       "\t  1 &  0\\\\\n",
       "\t  0 &  0\\\\\n",
       "\\end{tabular}\n"
      ],
      "text/markdown": [
       "\n",
       "| hour | sessions |\n",
       "|---|---|\n",
       "| 23 |  0 |\n",
       "| 22 |  0 |\n",
       "| 21 |  0 |\n",
       "| 20 |  0 |\n",
       "| 19 |  0 |\n",
       "| 18 |  0 |\n",
       "| 17 |  0 |\n",
       "| 16 |  0 |\n",
       "| 15 |  0 |\n",
       "| 14 |  0 |\n",
       "| 13 | 11 |\n",
       "| 11 |  5 |\n",
       "| 10 |  6 |\n",
       "|  9 | 34 |\n",
       "|  8 |  7 |\n",
       "|  7 |  0 |\n",
       "|  6 |  0 |\n",
       "|  5 |  0 |\n",
       "|  4 |  0 |\n",
       "|  3 |  0 |\n",
       "|  2 |  0 |\n",
       "|  1 |  0 |\n",
       "|  0 |  0 |\n",
       "\n"
      ],
      "text/plain": [
       "   hour sessions\n",
       "1  23    0      \n",
       "2  22    0      \n",
       "3  21    0      \n",
       "4  20    0      \n",
       "5  19    0      \n",
       "6  18    0      \n",
       "7  17    0      \n",
       "8  16    0      \n",
       "9  15    0      \n",
       "10 14    0      \n",
       "11 13   11      \n",
       "12 11    5      \n",
       "13 10    6      \n",
       "14  9   34      \n",
       "15  8    7      \n",
       "16  7    0      \n",
       "17  6    0      \n",
       "18  5    0      \n",
       "19  4    0      \n",
       "20  3    0      \n",
       "21  2    0      \n",
       "22  1    0      \n",
       "23  0    0      "
      ]
     },
     "metadata": {},
     "output_type": "display_data"
    }
   ],
   "source": [
    "# generate a 24 hour table of sessions\n",
    "\n",
    "visits_per_hour_1 <- data.frame(hour=seq(0, 7), sessions=c(0))\n",
    "visits_per_hour_2 <- data.frame(hour=seq(14, 23), sessions=c(0))\n",
    "hour_table <- union_all(visits_per_hour_1, visits_per_hour_2)\n",
    "hour_table <- union_all(df_hour_of_day, hour_table) \n",
    "hour_table %>% arrange(desc(hour)) "
   ]
  },
  {
   "cell_type": "code",
   "execution_count": 47,
   "metadata": {},
   "outputs": [
    {
     "data": {
      "image/png": "[encoded data removed]",
      "text/plain": [
       "plot without title"
      ]
     },
     "metadata": {},
     "output_type": "display_data"
    }
   ],
   "source": [
    "# plot visits per hour of the day\n",
    "\n",
    "saved <- options(repr.plot.width=6, repr.plot.height=3)\n",
    "\n",
    "hourly_plot <- ggplot(data=hour_table, aes(x=hour, y=sessions)) +\n",
    "  geom_line() +\n",
    "  theme_minimal() +\n",
    "  ggtitle(\"Sessions by Hour of Day\") +\n",
    "  theme(plot.title = element_text(hjust = 0.5))\n",
    "\n",
    "hourly_plot\n",
    "options(saved)"
   ]
  }
 ],
 "metadata": {
  "kernelspec": {
   "display_name": "R",
   "language": "R",
   "name": "ir"
  },
  "language_info": {
   "codemirror_mode": {
    "name": "ipython",
    "version": 3
   },
   "file_extension": ".py",
   "mimetype": "text/x-python",
   "name": "python",
   "nbconvert_exporter": "python",
   "pygments_lexer": "ipython3",
   "version": "3.6.7"
  }
 },
 "nbformat": 4,
 "nbformat_minor": 4
}
