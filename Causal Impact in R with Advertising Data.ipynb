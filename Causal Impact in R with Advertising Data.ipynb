{
 "cells": [
  {
   "cell_type": "markdown",
   "metadata": {},
   "source": [
    "# Introduction\n",
    "\n",
    "This document serves as a guide to introduce users to demonstrating impact of Ads in R with a real example used with Advertising data. "
   ]
  },
  {
   "cell_type": "code",
   "execution_count": 19,
   "metadata": {
    "scrolled": true
   },
   "outputs": [],
   "source": [
    "library(CausalImpact)\n",
    "library(tidyverse)\n",
    "library(xts)"
   ]
  },
  {
   "cell_type": "markdown",
   "metadata": {},
   "source": [
    "# Import data files"
   ]
  },
  {
   "cell_type": "code",
   "execution_count": 20,
   "metadata": {},
   "outputs": [
    {
     "name": "stderr",
     "output_type": "stream",
     "text": [
      "Parsed with column specification:\n",
      "cols(\n",
      "  `DV360 Exchange (CM Model)` = col_character(),\n",
      "  `DV360 Creative Name (CM Model)` = col_character(),\n",
      "  Date = col_integer(),\n",
      "  `DV360 Impressions` = col_integer()\n",
      ")\n"
     ]
    },
    {
     "data": {
      "text/html": [
       "<table>\n",
       "<thead><tr><th scope=col>DV360 Exchange (CM Model)</th><th scope=col>DV360 Creative Name (CM Model)</th><th scope=col>Date</th><th scope=col>DV360 Impressions</th></tr></thead>\n",
       "<tbody>\n",
       "\t<tr><td>DoubleClick Ad Exchange       </td><td>Beauty Addict + Instant Beauty</td><td>20181121                      </td><td>521554                        </td></tr>\n",
       "\t<tr><td>DoubleClick Ad Exchange       </td><td>Beauty Addict + Instant Beauty</td><td>20181120                      </td><td>435500                        </td></tr>\n",
       "\t<tr><td>DoubleClick Ad Exchange       </td><td>Beauty Addict + Instant Beauty</td><td>20181122                      </td><td>347243                        </td></tr>\n",
       "\t<tr><td>DoubleClick Ad Exchange       </td><td>Flaunting Divas               </td><td>20181001                      </td><td>324399                        </td></tr>\n",
       "\t<tr><td>DoubleClick Ad Exchange       </td><td>Flaunting Divas               </td><td>20181002                      </td><td>314448                        </td></tr>\n",
       "\t<tr><td>DoubleClick Ad Exchange       </td><td>Beauty Addict + Instant Beauty</td><td>20181123                      </td><td>312875                        </td></tr>\n",
       "</tbody>\n",
       "</table>\n"
      ],
      "text/latex": [
       "\\begin{tabular}{r|llll}\n",
       " DV360 Exchange (CM Model) & DV360 Creative Name (CM Model) & Date & DV360 Impressions\\\\\n",
       "\\hline\n",
       "\t DoubleClick Ad Exchange        & Beauty Addict + Instant Beauty & 20181121                       & 521554                        \\\\\n",
       "\t DoubleClick Ad Exchange        & Beauty Addict + Instant Beauty & 20181120                       & 435500                        \\\\\n",
       "\t DoubleClick Ad Exchange        & Beauty Addict + Instant Beauty & 20181122                       & 347243                        \\\\\n",
       "\t DoubleClick Ad Exchange        & Flaunting Divas                & 20181001                       & 324399                        \\\\\n",
       "\t DoubleClick Ad Exchange        & Flaunting Divas                & 20181002                       & 314448                        \\\\\n",
       "\t DoubleClick Ad Exchange        & Beauty Addict + Instant Beauty & 20181123                       & 312875                        \\\\\n",
       "\\end{tabular}\n"
      ],
      "text/markdown": [
       "\n",
       "| DV360 Exchange (CM Model) | DV360 Creative Name (CM Model) | Date | DV360 Impressions |\n",
       "|---|---|---|---|\n",
       "| DoubleClick Ad Exchange        | Beauty Addict + Instant Beauty | 20181121                       | 521554                         |\n",
       "| DoubleClick Ad Exchange        | Beauty Addict + Instant Beauty | 20181120                       | 435500                         |\n",
       "| DoubleClick Ad Exchange        | Beauty Addict + Instant Beauty | 20181122                       | 347243                         |\n",
       "| DoubleClick Ad Exchange        | Flaunting Divas                | 20181001                       | 324399                         |\n",
       "| DoubleClick Ad Exchange        | Flaunting Divas                | 20181002                       | 314448                         |\n",
       "| DoubleClick Ad Exchange        | Beauty Addict + Instant Beauty | 20181123                       | 312875                         |\n",
       "\n"
      ],
      "text/plain": [
       "  DV360 Exchange (CM Model) DV360 Creative Name (CM Model) Date    \n",
       "1 DoubleClick Ad Exchange   Beauty Addict + Instant Beauty 20181121\n",
       "2 DoubleClick Ad Exchange   Beauty Addict + Instant Beauty 20181120\n",
       "3 DoubleClick Ad Exchange   Beauty Addict + Instant Beauty 20181122\n",
       "4 DoubleClick Ad Exchange   Flaunting Divas                20181001\n",
       "5 DoubleClick Ad Exchange   Flaunting Divas                20181002\n",
       "6 DoubleClick Ad Exchange   Beauty Addict + Instant Beauty 20181123\n",
       "  DV360 Impressions\n",
       "1 521554           \n",
       "2 435500           \n",
       "3 347243           \n",
       "4 324399           \n",
       "5 314448           \n",
       "6 312875           "
      ]
     },
     "metadata": {},
     "output_type": "display_data"
    }
   ],
   "source": [
    "ad_impressions <- read_csv('C:/Users/User/Documents/DV360 ad impressions 20180901-20181231.csv')\n",
    "\n",
    "head(ad_impressions)"
   ]
  },
  {
   "cell_type": "code",
   "execution_count": 21,
   "metadata": {},
   "outputs": [
    {
     "name": "stderr",
     "output_type": "stream",
     "text": [
      "Parsed with column specification:\n",
      "cols(\n",
      "  `Default Channel Grouping` = col_character(),\n",
      "  Date = col_integer(),\n",
      "  Sessions = col_integer()\n",
      ")\n"
     ]
    },
    {
     "data": {
      "text/html": [
       "<table>\n",
       "<thead><tr><th scope=col>Default Channel Grouping</th><th scope=col>Date</th><th scope=col>Sessions</th></tr></thead>\n",
       "<tbody>\n",
       "\t<tr><td>(Other) </td><td>20180807</td><td>5748    </td></tr>\n",
       "\t<tr><td>(Other) </td><td>20180808</td><td>5175    </td></tr>\n",
       "\t<tr><td>(Other) </td><td>20180809</td><td>4927    </td></tr>\n",
       "\t<tr><td>(Other) </td><td>20180813</td><td>4458    </td></tr>\n",
       "\t<tr><td>(Other) </td><td>20180810</td><td>4411    </td></tr>\n",
       "\t<tr><td>(Other) </td><td>20180811</td><td>4333    </td></tr>\n",
       "</tbody>\n",
       "</table>\n"
      ],
      "text/latex": [
       "\\begin{tabular}{r|lll}\n",
       " Default Channel Grouping & Date & Sessions\\\\\n",
       "\\hline\n",
       "\t (Other)  & 20180807 & 5748    \\\\\n",
       "\t (Other)  & 20180808 & 5175    \\\\\n",
       "\t (Other)  & 20180809 & 4927    \\\\\n",
       "\t (Other)  & 20180813 & 4458    \\\\\n",
       "\t (Other)  & 20180810 & 4411    \\\\\n",
       "\t (Other)  & 20180811 & 4333    \\\\\n",
       "\\end{tabular}\n"
      ],
      "text/markdown": [
       "\n",
       "| Default Channel Grouping | Date | Sessions |\n",
       "|---|---|---|\n",
       "| (Other)  | 20180807 | 5748     |\n",
       "| (Other)  | 20180808 | 5175     |\n",
       "| (Other)  | 20180809 | 4927     |\n",
       "| (Other)  | 20180813 | 4458     |\n",
       "| (Other)  | 20180810 | 4411     |\n",
       "| (Other)  | 20180811 | 4333     |\n",
       "\n"
      ],
      "text/plain": [
       "  Default Channel Grouping Date     Sessions\n",
       "1 (Other)                  20180807 5748    \n",
       "2 (Other)                  20180808 5175    \n",
       "3 (Other)                  20180809 4927    \n",
       "4 (Other)                  20180813 4458    \n",
       "5 (Other)                  20180810 4411    \n",
       "6 (Other)                  20180811 4333    "
      ]
     },
     "metadata": {},
     "output_type": "display_data"
    }
   ],
   "source": [
    "channel_grouping <- read_csv('C:/Users/User/Documents/Channel Grouping Sessions.csv')\n",
    "head(channel_grouping)"
   ]
  },
  {
   "cell_type": "markdown",
   "metadata": {},
   "source": [
    "Problem Statement: We want to know the impact of K-Addict campaign impressions on the number of sessions on K Bright website\n",
    "\n",
    "Variables of interest in an experiment (those that are measured or observed) are called response or dependent variables. Other variables in the experiment that affect the response and can be set or measured by the experimenter are called predictor, explanatory, or independent variables. \n",
    "\n",
    "For example, you might want to determine the recommended baking time for a cake recipe. \n",
    "\n",
    "Predictor variables such as Baking time or oven temperature would affect the response (we would change or optimise these), which could be moisture level or thickness of the cake (the outcome that we would want to measure).\n",
    "\n",
    "Datasets are obtained from Google Analytics, from 1 September 2018 to 31 December 2018\n",
    "\n",
    "Response: date, Sessions (1 August 2018 - 31 December 2018) \n",
    "\n",
    "First group of users (Predictor 1): date, Impressions of Flaunting Divas campaign (1 Sept 2018 - 31 Oct 2018)\n",
    "\n",
    "Second group of users (Predictor 2): date, Impressions of K-Bright Visitor campaign (optional)\n",
    "\n",
    "http://www.dartistics.com/timeseries.html\n",
    "\n",
    "Channels report: ChannelGrouping, Date, Sessions\n",
    "Ad Impressions report: DV360 Exchange (CM Model), DV360 Creative Name (CM Model), Date, DV360 Impressions"
   ]
  },
  {
   "cell_type": "markdown",
   "metadata": {},
   "source": [
    "# Further Data Processing"
   ]
  },
  {
   "cell_type": "code",
   "execution_count": 22,
   "metadata": {},
   "outputs": [],
   "source": [
    "# Create Date-Time column\n",
    "ad_impressions$Date <-  as.Date(as.character(ad_impressions$Date),format=\"%Y%m%d\")\n",
    "#ad_impressions$Date <-  as.POSIXct(ad_impressions$Date, format = \"%Y%m/%d\", #origin=\"SGT\")\n",
    "\n",
    "channel_grouping$Date <-  as.Date(as.character(channel_grouping$Date),format=\"%Y%m%d\")\n",
    "#channel_grouping$Date <-  as.POSIXct(channel_grouping$Date, format = \"%Y%m/%d\", #origin=\"SGT\")"
   ]
  },
  {
   "cell_type": "code",
   "execution_count": 23,
   "metadata": {},
   "outputs": [],
   "source": [
    "# Filter for the specific campaign that we want to test\n",
    "ad_impressions_K_Addict <- ad_impressions %>% \n",
    "  filter(`DV360 Exchange (CM Model)` == 'DoubleClick Ad Exchange' &\n",
    "           `DV360 Creative Name (CM Model)` == 'Flaunting Divas') %>% \n",
    "  select(-`DV360 Exchange (CM Model)`)\n",
    "\n",
    "# remove unwanted columns and join datasets\n",
    "channel_grouping_wide <- channel_grouping %>% \n",
    "  spread(`Default Channel Grouping`, Sessions)\n",
    "\n",
    "ad_impressions_K_Addict_wide <- ad_impressions_K_Addict %>% \n",
    "  spread(`DV360 Creative Name (CM Model)`, `DV360 Impressions`)\n",
    "\n",
    "channel_ad_impressions <- channel_grouping_wide %>% \n",
    "  left_join(ad_impressions_K_Addict_wide, by = 'Date') %>% \n",
    "   mutate_at(vars(-Date), funs(replace(., is.na(.), 0)))\n",
    "\n",
    "channel_ad_impressions_xts <- xts(channel_ad_impressions[-1], order.by = as.Date(channel_ad_impressions$Date))\n",
    "\n",
    "## data in order of response, predictor1, predictor2, etc.\n",
    "model_data <- channel_ad_impressions_xts[,c(\"Display\",\"Flaunting Divas\",\"Paid Search\")]\n"
   ]
  },
  {
   "cell_type": "markdown",
   "metadata": {},
   "source": [
    "# Create Pre & Post Periods"
   ]
  },
  {
   "cell_type": "code",
   "execution_count": 24,
   "metadata": {},
   "outputs": [],
   "source": [
    "# Determine pre and post event time frames varying post period timepre.period \n",
    "pre.period <- as.Date(c(\"2018-08-01\",\"2018-08-31\"))\n",
    "post.period <- as.Date(c(\"2018-11-01\",\"2018-12-31\"))"
   ]
  },
  {
   "cell_type": "markdown",
   "metadata": {},
   "source": [
    "# Run Causal Impact analysis and see results"
   ]
  },
  {
   "cell_type": "code",
   "execution_count": 25,
   "metadata": {},
   "outputs": [
    {
     "name": "stdout",
     "output_type": "stream",
     "text": [
      "Posterior inference {CausalImpact}\n",
      "\n",
      "                         Average         Cumulative      \n",
      "Actual                   171             10418           \n",
      "Prediction (s.d.)        1094 (150)      66729 (9168)    \n",
      "95% CI                   [800, 1391]     [48809, 84853]  \n",
      "                                                         \n",
      "Absolute effect (s.d.)   -923 (150)      -56311 (9168)   \n",
      "95% CI                   [-1220, -629]   [-74435, -38391]\n",
      "                                                         \n",
      "Relative effect (s.d.)   -84% (14%)      -84% (14%)      \n",
      "95% CI                   [-112%, -58%]   [-112%, -58%]   \n",
      "\n",
      "Posterior tail-area probability p:   0.00103\n",
      "Posterior prob. of a causal effect:  99.89744%\n",
      "\n",
      "For more details, type: summary(impact, \"report\")\n",
      "\n"
     ]
    }
   ],
   "source": [
    "impact_channel_ad_impressions_xts = CausalImpact(model_data, pre.period, post.period)\n",
    "summary(impact_channel_ad_impressions_xts)"
   ]
  },
  {
   "cell_type": "markdown",
   "metadata": {},
   "source": [
    "# Generate a narrated report of the results"
   ]
  },
  {
   "cell_type": "code",
   "execution_count": 26,
   "metadata": {},
   "outputs": [
    {
     "name": "stdout",
     "output_type": "stream",
     "text": [
      "Analysis report {CausalImpact}\n",
      "\n",
      "\n",
      "During the post-intervention period, the response variable had an average value of approx. 170.79. By contrast, in the absence of an intervention, we would have expected an average response of 1093.91. The 95% interval of this counterfactual prediction is [800.14, 1391.04]. Subtracting this prediction from the observed response yields an estimate of the causal effect the intervention had on the response variable. This effect is -923.12 with a 95% interval of [-1220.25, -629.35]. For a discussion of the significance of this effect, see below.\n",
      "\n",
      "Summing up the individual data points during the post-intervention period (which can only sometimes be meaningfully interpreted), the response variable had an overall value of 10.42K. By contrast, had the intervention not taken place, we would have expected a sum of 66.73K. The 95% interval of this prediction is [48.81K, 84.85K].\n",
      "\n",
      "The above results are given in terms of absolute numbers. In relative terms, the response variable showed a decrease of-84%. The 95% interval of this percentage is [-112%, -58%].\n",
      "\n",
      "This means that the negative effect observed during the intervention period is statistically significant. If the experimenter had expected a positive effect, it is recommended to double-check whether anomalies in the control variables may have caused an overly optimistic expectation of what should have happened in the response variable in the absence of the intervention.\n",
      "\n",
      "The probability of obtaining this effect by chance is very small (Bayesian one-sided tail-area probability p = 0.001). This means the causal effect can be considered statistically significant. \n"
     ]
    }
   ],
   "source": [
    "summary(impact_channel_ad_impressions_xts, \"report\")"
   ]
  },
  {
   "cell_type": "markdown",
   "metadata": {},
   "source": [
    "# Plot graphs of the results"
   ]
  },
  {
   "cell_type": "code",
   "execution_count": 27,
   "metadata": {},
   "outputs": [
    {
     "name": "stderr",
     "output_type": "stream",
     "text": [
      "Warning message:\n",
      "\"Removed 153 rows containing missing values (geom_path).\"Warning message:\n",
      "\"Removed 306 rows containing missing values (geom_path).\""
     ]
    },
    {
     "data": {
      "image/png": "[encoded data removed]",
      "text/plain": [
       "plot without title"
      ]
     },
     "metadata": {},
     "output_type": "display_data"
    }
   ],
   "source": [
    "plot(impact_channel_ad_impressions_xts)"
   ]
  },
  {
   "cell_type": "markdown",
   "metadata": {},
   "source": [
    "Original: Solid, black line is observed data before the intervention and dotted, blue line is the predicted coin in values for what would have occurred without the intervention\n",
    "\n",
    "Pointwise: The net difference between the observed and predicted response on the original scale, or the difference between the solid, black line and the dotted, blue line on the original graph.\n",
    "\n",
    "Cumulative: Dotted, blue line is the individual causal effects added up in time, day after day.\n",
    "\n",
    "For all three graphs, the light blue shaded area represents the results in a 95% confidence level. The farther that the graph extends past the beginning of the intervention, the less certain of the causal effect; hence, the larger the shaded area."
   ]
  },
  {
   "cell_type": "markdown",
   "metadata": {},
   "source": [
    "# Show the predictor variables used in the model"
   ]
  },
  {
   "cell_type": "code",
   "execution_count": 28,
   "metadata": {},
   "outputs": [
    {
     "data": {
      "image/png": "[encoded data removed]",
      "text/plain": [
       "plot without title"
      ]
     },
     "metadata": {},
     "output_type": "display_data"
    }
   ],
   "source": [
    "plot(impact_channel_ad_impressions_xts$model$bsts.model, \"coefficients\")"
   ]
  },
  {
   "cell_type": "markdown",
   "metadata": {},
   "source": [
    "# Further exploration"
   ]
  },
  {
   "cell_type": "markdown",
   "metadata": {},
   "source": [
    "https://ee.cooper.edu/~keene/assets/Neema_Thesis_vFinal.pdf"
   ]
  },
  {
   "cell_type": "code",
   "execution_count": null,
   "metadata": {},
   "outputs": [],
   "source": []
  }
 ],
 "metadata": {
  "kernelspec": {
   "display_name": "R",
   "language": "R",
   "name": "ir"
  },
  "language_info": {
   "codemirror_mode": "r",
   "file_extension": ".r",
   "mimetype": "text/x-r-source",
   "name": "R",
   "pygments_lexer": "r",
   "version": "3.5.0"
  }
 },
 "nbformat": 4,
 "nbformat_minor": 2
}
